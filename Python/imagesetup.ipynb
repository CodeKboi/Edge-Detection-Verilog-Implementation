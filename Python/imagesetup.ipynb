{
 "cells": [
  {
   "cell_type": "code",
   "execution_count": 2,
   "id": "d3baac13-00e3-4179-8fd7-8c0fbe096c97",
   "metadata": {
    "execution": {
     "iopub.execute_input": "2024-05-12T15:50:18.037600Z",
     "iopub.status.busy": "2024-05-12T15:50:18.037362Z",
     "iopub.status.idle": "2024-05-12T15:50:18.072448Z",
     "shell.execute_reply": "2024-05-12T15:50:18.071876Z",
     "shell.execute_reply.started": "2024-05-12T15:50:18.037583Z"
    }
   },
   "outputs": [],
   "source": [
    "from PIL import Image"
   ]
  },
  {
   "cell_type": "code",
   "execution_count": 3,
   "id": "0eeafaec-6764-4902-972e-fbf1f4472c24",
   "metadata": {
    "execution": {
     "iopub.execute_input": "2024-05-12T15:50:18.266520Z",
     "iopub.status.busy": "2024-05-12T15:50:18.266227Z",
     "iopub.status.idle": "2024-05-12T15:50:18.335172Z",
     "shell.execute_reply": "2024-05-12T15:50:18.334604Z",
     "shell.execute_reply.started": "2024-05-12T15:50:18.266500Z"
    }
   },
   "outputs": [],
   "source": [
    "def image_to_grayscale_array(image_path):\n",
    "    # Open the image\n",
    "    image = Image.open(image_path)\n",
    "    \n",
    "    # Convert the image to grayscale\n",
    "    grayscale_image = image.convert('L')\n",
    "    \n",
    "    # Get the grayscale pixel values as a list\n",
    "    pixel_values = list(grayscale_image.getdata())\n",
    "    \n",
    "    # Write pixel values to a text file\n",
    "    with open('data.txt', 'w') as f:\n",
    "        # Write pixel values in hex format, one per line\n",
    "        for pixel in pixel_values:\n",
    "            \n",
    "            f.write(format(pixel, '02X') + '\\n')\n",
    "\n",
    "\n",
    "# Example usage:\n",
    "image_to_grayscale_array('4.1.06.tiff')\n",
    "\n"
   ]
  },
  {
   "cell_type": "code",
   "execution_count": 4,
   "id": "75c4d43f-0899-4597-be7d-1d27c933b8e4",
   "metadata": {
    "execution": {
     "iopub.execute_input": "2024-05-12T15:52:43.696448Z",
     "iopub.status.busy": "2024-05-12T15:52:43.696194Z",
     "iopub.status.idle": "2024-05-12T15:52:43.724652Z",
     "shell.execute_reply": "2024-05-12T15:52:43.723689Z",
     "shell.execute_reply.started": "2024-05-12T15:52:43.696429Z"
    }
   },
   "outputs": [],
   "source": [
    "def grayscale_array_to_image(array_file_path, output_image_path):\n",
    "    # Read pixel values from the text file\n",
    "    with open(array_file_path, 'r') as f:\n",
    "        pixel_values = f.readlines()\n",
    "\n",
    "    # Convert pixel values from hexadecimal back to integers\n",
    "    pixel_values = [int(pixel.strip(), 16) for pixel in pixel_values]\n",
    "\n",
    "    # Calculate image dimensions\n",
    "    width = 256\n",
    "    height = 256  # We assume one-dimensional array\n",
    "\n",
    "    # Create a new image\n",
    "    image = Image.new('L', (width, height))\n",
    "\n",
    "    # Put pixel values into the image\n",
    "    image.putdata(pixel_values)\n",
    "\n",
    "    # Save the image\n",
    "    image.save(output_image_path)\n",
    "\n",
    "# Example usage:\n",
    "grayscale_array_to_image('output.txt', 'reconstructed_image2.jpg')\n"
   ]
  },
  {
   "cell_type": "code",
   "execution_count": 10,
   "id": "f9000248-96eb-404e-b753-b42e0412e543",
   "metadata": {
    "execution": {
     "iopub.execute_input": "2024-05-11T17:04:18.766752Z",
     "iopub.status.busy": "2024-05-11T17:04:18.766386Z",
     "iopub.status.idle": "2024-05-11T17:04:18.772153Z",
     "shell.execute_reply": "2024-05-11T17:04:18.771271Z",
     "shell.execute_reply.started": "2024-05-11T17:04:18.766726Z"
    }
   },
   "outputs": [
    {
     "data": {
      "text/plain": [
       "65536.0"
      ]
     },
     "execution_count": 10,
     "metadata": {},
     "output_type": "execute_result"
    }
   ],
   "source": [
    "512*512/4\n"
   ]
  },
  {
   "cell_type": "code",
   "execution_count": 22,
   "id": "141bd637-faba-42bb-ac91-9e68456076ff",
   "metadata": {
    "execution": {
     "iopub.execute_input": "2024-05-11T17:15:54.110251Z",
     "iopub.status.busy": "2024-05-11T17:15:54.109944Z",
     "iopub.status.idle": "2024-05-11T17:15:54.340639Z",
     "shell.execute_reply": "2024-05-11T17:15:54.340082Z",
     "shell.execute_reply.started": "2024-05-11T17:15:54.110229Z"
    }
   },
   "outputs": [],
   "source": [
    "import cv2\n",
    "import numpy as np\n",
    "\n",
    "def sobel_edge_detection(image_path, output_image_path):\n",
    "    # Read the grayscale image\n",
    "    grayscale_image = cv2.imread(image_path, cv2.IMREAD_GRAYSCALE)\n",
    "    \n",
    "    # Apply Sobel edge detection\n",
    "    sobel_x = cv2.Sobel(grayscale_image, cv2.CV_64F, 1, 0, ksize=3)\n",
    "    sobel_y = cv2.Sobel(grayscale_image, cv2.CV_64F, 0, 1, ksize=3)\n",
    "    \n",
    "    # Combine the results to get the magnitude\n",
    "    sobel_mag = np.sqrt(sobel_x**2 + sobel_y**2)\n",
    "    sobel_mag = np.uint8(sobel_mag)\n",
    "    \n",
    "    # Save the Sobel edge-detected image\n",
    "    cv2.imwrite(output_image_path, sobel_mag)\n",
    "\n",
    "# Example usage:\n",
    "sobel_edge_detection('image1.tiff', 'edges_image.jpg')\n"
   ]
  },
  {
   "cell_type": "code",
   "execution_count": 21,
   "id": "d75ae9be-4352-4f93-ae75-13a3e4bc0dc4",
   "metadata": {
    "execution": {
     "iopub.execute_input": "2024-05-11T17:14:07.401625Z",
     "iopub.status.busy": "2024-05-11T17:14:07.401275Z",
     "iopub.status.idle": "2024-05-11T17:15:17.644920Z",
     "shell.execute_reply": "2024-05-11T17:15:17.644288Z",
     "shell.execute_reply.started": "2024-05-11T17:14:07.401604Z"
    }
   },
   "outputs": [
    {
     "name": "stdout",
     "output_type": "stream",
     "text": [
      "Collecting opencv-python\n",
      "  Downloading opencv_python-4.9.0.80-cp37-abi3-manylinux_2_17_x86_64.manylinux2014_x86_64.whl (62.2 MB)\n",
      "\u001b[2K     \u001b[38;2;114;156;31m━━━━━━━━━━━━━━━━━━━━━━━━━━━━━━━━━━━━━━━━\u001b[0m \u001b[32m62.2/62.2 MB\u001b[0m \u001b[31m1.2 MB/s\u001b[0m eta \u001b[36m0:00:00\u001b[0mm eta \u001b[36m0:00:01\u001b[0m[36m0:00:02\u001b[0mm\n",
      "\u001b[?25hRequirement already satisfied: numpy>=1.21.2 in ./Documents/TestEnv/jupenv/lib/python3.10/site-packages (from opencv-python) (1.26.2)\n",
      "Installing collected packages: opencv-python\n",
      "Successfully installed opencv-python-4.9.0.80\n"
     ]
    }
   ],
   "source": [
    "!pip install opencv-python"
   ]
  },
  {
   "cell_type": "code",
   "execution_count": null,
   "id": "7dc09939-b4a6-4275-9b9e-d9d4222955ab",
   "metadata": {},
   "outputs": [],
   "source": []
  }
 ],
 "metadata": {
  "kernelspec": {
   "display_name": "Python 3 (ipykernel)",
   "language": "python",
   "name": "python3"
  },
  "language_info": {
   "codemirror_mode": {
    "name": "ipython",
    "version": 3
   },
   "file_extension": ".py",
   "mimetype": "text/x-python",
   "name": "python",
   "nbconvert_exporter": "python",
   "pygments_lexer": "ipython3",
   "version": "3.10.12"
  }
 },
 "nbformat": 4,
 "nbformat_minor": 5
}
